{
 "cells": [
  {
   "cell_type": "markdown",
   "id": "464acfe4",
   "metadata": {},
   "source": [
    "# Names"
   ]
  },
  {
   "cell_type": "code",
   "execution_count": 1,
   "id": "cb612ab6",
   "metadata": {},
   "outputs": [],
   "source": [
    "text = \"\"\"\n",
    "    Here are the full name of some people:\n",
    "    Smith, Mr. Robert\n",
    "    Johnson, Ms Mary\n",
    "    Wilson, Mrs. Barbara\n",
    "    Taylor, Dr Karen\n",
    "    Lewis, Mr. John\n",
    "\n",
    "\"\"\""
   ]
  },
  {
   "cell_type": "code",
   "execution_count": 2,
   "id": "8d3ac939",
   "metadata": {
    "scrolled": false
   },
   "outputs": [
    {
     "data": {
      "text/plain": [
       "['Smith, Mr. Robert',\n",
       " 'Johnson, Ms Mary',\n",
       " 'Wilson, Mrs. Barbara',\n",
       " 'Taylor, Dr Karen',\n",
       " 'Lewis, Mr. John']"
      ]
     },
     "execution_count": 2,
     "metadata": {},
     "output_type": "execute_result"
    }
   ],
   "source": [
    "from pregex.core.classes import AnyButWhitespace\n",
    "from pregex.core.quantifiers import OneOrMore, Optional\n",
    "from pregex.core.operators import Either\n",
    "\n",
    "family_name = OneOrMore(AnyButWhitespace())\n",
    "title = Either(\"Mrs\", \"Mr\", \"Ms\", \"Dr\")\n",
    "given_name = OneOrMore(AnyButWhitespace())\n",
    "\n",
    "pre = (\n",
    "    family_name +\n",
    "    ', ' +\n",
    "    title +\n",
    "    Optional(\".\") +\n",
    "    ' ' +\n",
    "    given_name\n",
    ")\n",
    "\n",
    "pre.get_matches(text)"
   ]
  },
  {
   "cell_type": "code",
   "execution_count": 3,
   "id": "2514677a",
   "metadata": {},
   "outputs": [
    {
     "data": {
      "text/plain": [
       "'\\\\S+, (?:Mrs|Mr|Ms|Dr)\\\\.? \\\\S+'"
      ]
     },
     "execution_count": 3,
     "metadata": {},
     "output_type": "execute_result"
    }
   ],
   "source": [
    "pre.get_pattern()"
   ]
  },
  {
   "cell_type": "markdown",
   "id": "ce725dcb",
   "metadata": {},
   "source": [
    "# Date"
   ]
  },
  {
   "cell_type": "code",
   "execution_count": 4,
   "id": "6b6d8a08",
   "metadata": {},
   "outputs": [],
   "source": [
    "text = \"\"\"\n",
    "    04-13-2021\n",
    "    2021-04-13\n",
    "    2021-13-04\n",
    "\"\"\""
   ]
  },
  {
   "cell_type": "code",
   "execution_count": 5,
   "id": "d9bce89b",
   "metadata": {},
   "outputs": [
    {
     "data": {
      "text/plain": [
       "['04-13-2021']"
      ]
     },
     "execution_count": 5,
     "metadata": {},
     "output_type": "execute_result"
    }
   ],
   "source": [
    "from pregex.core.classes import AnyDigit\n",
    "from pregex.core.quantifiers import Exactly\n",
    "\n",
    "two_digits = Exactly(AnyDigit(), 2) \n",
    "four_digits = Exactly(AnyDigit(), 4)\n",
    "\n",
    "pre = (\n",
    "    two_digits +\n",
    "    \"-\" +\n",
    "    two_digits +\n",
    "    \"-\" +\n",
    "    four_digits\n",
    ")\n",
    "\n",
    "pre.get_matches(text)"
   ]
  },
  {
   "cell_type": "code",
   "execution_count": 6,
   "id": "3b58b460",
   "metadata": {},
   "outputs": [
    {
     "data": {
      "text/plain": [
       "'\\\\d{2}-\\\\d{2}-\\\\d{4}'"
      ]
     },
     "execution_count": 6,
     "metadata": {},
     "output_type": "execute_result"
    }
   ],
   "source": [
    "pre.get_pattern()"
   ]
  },
  {
   "cell_type": "markdown",
   "id": "19a6c674",
   "metadata": {},
   "source": [
    "# Email"
   ]
  },
  {
   "cell_type": "code",
   "execution_count": 7,
   "id": "e6d408b0",
   "metadata": {},
   "outputs": [],
   "source": [
    "text = \"\"\"\n",
    "    example@python.com\n",
    "    example@@python.com\n",
    "    example@python.com.\n",
    "\"\"\""
   ]
  },
  {
   "cell_type": "code",
   "execution_count": 8,
   "id": "59eefe57",
   "metadata": {},
   "outputs": [
    {
     "data": {
      "text/plain": [
       "['example@python.com']"
      ]
     },
     "execution_count": 8,
     "metadata": {},
     "output_type": "execute_result"
    }
   ],
   "source": [
    "from pregex.core.classes import AnyButFrom\n",
    "from pregex.core.quantifiers import OneOrMore, AtLeast\n",
    "from pregex.core.assertions import MatchAtLineEnd\n",
    "\n",
    "non_at_sign_space = OneOrMore(AnyButFrom(\"@\", ' '))\n",
    "non_at_sign_space_dot = OneOrMore(AnyButFrom(\"@\", ' ', '.'))\n",
    "domain = MatchAtLineEnd(AtLeast(AnyButFrom(\"@\", ' ', '.'), 2))\n",
    "pre = (\n",
    "    non_at_sign_space +\n",
    "    \"@\" +\n",
    "    non_at_sign_space_dot +\n",
    "    '.' +\n",
    "    domain\n",
    ")\n",
    "\n",
    "pre.get_matches(text)"
   ]
  },
  {
   "cell_type": "code",
   "execution_count": 9,
   "id": "4d0148f7",
   "metadata": {},
   "outputs": [
    {
     "data": {
      "text/plain": [
       "'[^ @]+@[^ .@]+\\\\.[^ .@]{2,}$'"
      ]
     },
     "execution_count": 9,
     "metadata": {},
     "output_type": "execute_result"
    }
   ],
   "source": [
    "pre.get_pattern()"
   ]
  }
 ],
 "metadata": {
  "kernelspec": {
   "display_name": "Python 3 (ipykernel)",
   "language": "python",
   "name": "python3"
  },
  "language_info": {
   "codemirror_mode": {
    "name": "ipython",
    "version": 3
   },
   "file_extension": ".py",
   "mimetype": "text/x-python",
   "name": "python",
   "nbconvert_exporter": "python",
   "pygments_lexer": "ipython3",
   "version": "3.10.4"
  },
  "toc": {
   "base_numbering": 1,
   "nav_menu": {},
   "number_sections": true,
   "sideBar": true,
   "skip_h1_title": false,
   "title_cell": "Table of Contents",
   "title_sidebar": "Contents",
   "toc_cell": false,
   "toc_position": {},
   "toc_section_display": true,
   "toc_window_display": false
  }
 },
 "nbformat": 4,
 "nbformat_minor": 5
}
